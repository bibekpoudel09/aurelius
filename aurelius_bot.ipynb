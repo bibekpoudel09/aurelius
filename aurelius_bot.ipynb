{
 "cells": [
  {
   "cell_type": "code",
   "execution_count": 2,
   "id": "de6ab418",
   "metadata": {},
   "outputs": [
    {
     "name": "stdout",
     "output_type": "stream",
     "text": [
      "Requirement already satisfied: pylance in /home/houstonification_vivek/anaconda3/lib/python3.9/site-packages (0.2.3)\n",
      "Requirement already satisfied: pillow in /home/houstonification_vivek/anaconda3/lib/python3.9/site-packages (from pylance) (9.2.0)\n",
      "Requirement already satisfied: numpy in /home/houstonification_vivek/anaconda3/lib/python3.9/site-packages (from pylance) (1.21.5)\n",
      "Requirement already satisfied: pyarrow<11,>=10 in /home/houstonification_vivek/anaconda3/lib/python3.9/site-packages (from pylance) (10.0.1)\n",
      "Requirement already satisfied: requests in /home/houstonification_vivek/anaconda3/lib/python3.9/site-packages (from pylance) (2.28.1)\n",
      "Requirement already satisfied: pandas in /home/houstonification_vivek/anaconda3/lib/python3.9/site-packages (from pylance) (1.4.4)\n",
      "Requirement already satisfied: python-dateutil>=2.8.1 in /home/houstonification_vivek/anaconda3/lib/python3.9/site-packages (from pandas->pylance) (2.8.2)\n",
      "Requirement already satisfied: pytz>=2020.1 in /home/houstonification_vivek/anaconda3/lib/python3.9/site-packages (from pandas->pylance) (2022.1)\n",
      "Requirement already satisfied: charset-normalizer<3,>=2 in /home/houstonification_vivek/anaconda3/lib/python3.9/site-packages (from requests->pylance) (2.0.4)\n",
      "Requirement already satisfied: urllib3<1.27,>=1.21.1 in /home/houstonification_vivek/anaconda3/lib/python3.9/site-packages (from requests->pylance) (1.26.11)\n",
      "Requirement already satisfied: certifi>=2017.4.17 in /home/houstonification_vivek/anaconda3/lib/python3.9/site-packages (from requests->pylance) (2022.9.24)\n",
      "Requirement already satisfied: idna<4,>=2.5 in /home/houstonification_vivek/anaconda3/lib/python3.9/site-packages (from requests->pylance) (3.3)\n",
      "Requirement already satisfied: six>=1.5 in /home/houstonification_vivek/anaconda3/lib/python3.9/site-packages (from python-dateutil>=2.8.1->pandas->pylance) (1.16.0)\n",
      "Note: you may need to restart the kernel to use updated packages.\n"
     ]
    }
   ],
   "source": [
    "pip install pylance\n"
   ]
  },
  {
   "cell_type": "code",
   "execution_count": 5,
   "id": "86c0375e",
   "metadata": {},
   "outputs": [],
   "source": [
    "from telegram.ext.updater import Updater\n",
    "from telegram.update import Update\n",
    "from telegram.ext.callbackcontext import CallbackContext\n",
    "from telegram.ext.commandhandler import CommandHandler\n",
    "from telegram.ext.messagehandler import MessageHandler\n",
    "from telegram.ext.filters import Filters\n"
   ]
  },
  {
   "cell_type": "code",
   "execution_count": 7,
   "id": "7a03b946",
   "metadata": {},
   "outputs": [],
   "source": [
    "updater = Updater(\"5829604975:AAGmxQ4OgKP5golcr_pHmEo7hvMjnClmmK0\",\n",
    "                 use_context=True);\n",
    "def start(update:Update,context:CallbackContext):\n",
    "    update.message.reply_text(\n",
    "    \"Hello this is Aurelius Bot,where you can access all the concept of stoicism purposed by Marcus Aurelius along with the resources for learning Stoicism\")\n",
    "                  \n"
   ]
  },
  {
   "cell_type": "code",
   "execution_count": 8,
   "id": "fb098ba1",
   "metadata": {},
   "outputs": [],
   "source": [
    "def help(update:Update,context:CallbackContext):\n",
    "    update.message.reply_text(\"Here are all the commands you need for using this bot\")"
   ]
  },
  {
   "cell_type": "code",
   "execution_count": 9,
   "id": "f39e4df8",
   "metadata": {},
   "outputs": [],
   "source": [
    "def gmail_url(update:Update,contex: CallbackContext):\n",
    "    update.message.reply_text(\"https://mail.google.com/mail/u/0/?ogbl#inbox\")\n",
    "    \n",
    "def linkedIn_url(update:Update,context:CallbackContext):\n",
    "    update.message.reply_text(\"https://www.linkedin.com/in/vivek-poudel-a0b413213/\")\n",
    "    \n",
    "def github_url(update:Updater,context:CallbackContext):\n",
    "    update.message.reply_text(\"https://github.com/bibekpoudel09\")\n",
    "    \n",
    "def unknown(update:Update,context:CallbackContext):\n",
    "    update.message.reply_text(\n",
    "    \"SOrry '%s' is not a valid command\" % update.message.text)\n",
    "    \n",
    "def unknown_text(update:Update,context:CallbackContext):\n",
    "    update.message.reply_text(\"Sorry I cannot recognize you,you said '%s'\"% update.message.text)"
   ]
  },
  {
   "cell_type": "code",
   "execution_count": 10,
   "id": "02bf277a",
   "metadata": {},
   "outputs": [],
   "source": [
    "updater.dispatcher.add_handler(CommandHandler('start', start))\n",
    "# updater.dispatcher.add_handler(CommandHandler('youtube', youtube_url))\n",
    "updater.dispatcher.add_handler(CommandHandler('help', help))\n",
    "updater.dispatcher.add_handler(CommandHandler('linkedin', linkedIn_url))\n",
    "updater.dispatcher.add_handler(CommandHandler('gmail', gmail_url))\n",
    "updater.dispatcher.add_handler(CommandHandler('github', github_url))\n",
    "updater.dispatcher.add_handler(MessageHandler(Filters.text, unknown))\n",
    "updater.dispatcher.add_handler(MessageHandler(\n",
    "\t# Filters out unknown commands\n",
    "\tFilters.command, unknown))\n",
    "\n",
    "# Filters out unknown messages.\n",
    "updater.dispatcher.add_handler(MessageHandler(Filters.text, unknown_text))\n"
   ]
  },
  {
   "cell_type": "code",
   "execution_count": 11,
   "id": "73cb9250",
   "metadata": {},
   "outputs": [
    {
     "data": {
      "text/plain": [
       "<queue.Queue at 0x7fb7466f0730>"
      ]
     },
     "execution_count": 11,
     "metadata": {},
     "output_type": "execute_result"
    }
   ],
   "source": [
    "updater.start_polling()"
   ]
  },
  {
   "cell_type": "code",
   "execution_count": null,
   "id": "0f81a060",
   "metadata": {},
   "outputs": [],
   "source": []
  },
  {
   "cell_type": "code",
   "execution_count": null,
   "id": "acce4db6",
   "metadata": {},
   "outputs": [],
   "source": []
  },
  {
   "cell_type": "code",
   "execution_count": null,
   "id": "cfe26c2c",
   "metadata": {},
   "outputs": [],
   "source": []
  }
 ],
 "metadata": {
  "kernelspec": {
   "display_name": "Python 3 (ipykernel)",
   "language": "python",
   "name": "python3"
  },
  "language_info": {
   "codemirror_mode": {
    "name": "ipython",
    "version": 3
   },
   "file_extension": ".py",
   "mimetype": "text/x-python",
   "name": "python",
   "nbconvert_exporter": "python",
   "pygments_lexer": "ipython3",
   "version": "3.9.13"
  }
 },
 "nbformat": 4,
 "nbformat_minor": 5
}
